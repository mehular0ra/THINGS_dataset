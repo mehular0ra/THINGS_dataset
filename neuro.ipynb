{
 "cells": [
  {
   "cell_type": "code",
   "execution_count": 1,
   "metadata": {},
   "outputs": [],
   "source": [
    "import numpy as np\n",
    "import pandas as pd\n",
    "import scipy.io\n",
    "\n",
    "import torch\n"
   ]
  },
  {
   "attachments": {},
   "cell_type": "markdown",
   "metadata": {},
   "source": [
    "### embedding49"
   ]
  },
  {
   "cell_type": "code",
   "execution_count": 14,
   "metadata": {},
   "outputs": [
    {
     "name": "stdout",
     "output_type": "stream",
     "text": [
      "(49, 3)\n"
     ]
    }
   ],
   "source": [
    "colors49_mat = scipy.io.loadmat('./multimodal/data/embedding49/colors49.mat')\n",
    "colors49 = colors49_mat['colors49']\n",
    "print(colors49.shape)"
   ]
  },
  {
   "cell_type": "code",
   "execution_count": 21,
   "metadata": {},
   "outputs": [
    {
     "name": "stdout",
     "output_type": "stream",
     "text": [
      "dict_keys(['__header__', '__version__', '__globals__', 'labels_short'])\n",
      "(1, 49)\n",
      "[[array(['artificial / hard'], dtype='<U17')\n",
      "  array(['food-related'], dtype='<U12')\n",
      "  array(['animal-related'], dtype='<U14')\n",
      "  array(['clothing-related'], dtype='<U16')\n",
      "  array(['furniture-related'], dtype='<U17')\n",
      "  array(['plant-related / green'], dtype='<U21')\n",
      "  array(['outdoors-related'], dtype='<U16')\n",
      "  array(['transportation / dynamic'], dtype='<U24')\n",
      "  array(['wood-related / brown'], dtype='<U20')\n",
      "  array(['body part-related'], dtype='<U17')\n",
      "  array(['colorful'], dtype='<U8')\n",
      "  array(['valuable / special'], dtype='<U18')\n",
      "  array(['electronic / technology'], dtype='<U23')\n",
      "  array(['sport-related'], dtype='<U13')\n",
      "  array(['disc-shaped'], dtype='<U11')\n",
      "  array(['tool-related'], dtype='<U12')\n",
      "  array(['course pattern'], dtype='<U14')\n",
      "  array(['paper-related / text-related'], dtype='<U28')\n",
      "  array(['fluid-related / drink-related'], dtype='<U29')\n",
      "  array(['long-thin'], dtype='<U9')\n",
      "  array(['water-related / blue'], dtype='<U20')\n",
      "  array(['powdery / fine-scale pattern'], dtype='<U28')\n",
      "  array(['red'], dtype='<U3')\n",
      "  array(['feminine (stereotypically)'], dtype='<U26')\n",
      "  array(['bathroom-related'], dtype='<U16')\n",
      "  array(['black / noble'], dtype='<U13')\n",
      "  array(['weapon / danger-related'], dtype='<U23')\n",
      "  array(['instrument-related'], dtype='<U18')\n",
      "  array(['sky/flying-related '], dtype='<U19')\n",
      "  array(['spherical'], dtype='<U9')\n",
      "  array(['repetitiveness'], dtype='<U14')\n",
      "  array(['flat / patterned'], dtype='<U16') array(['white'], dtype='<U5')\n",
      "  array(['thin / flat'], dtype='<U11')\n",
      "  array(['insects / disgusting'], dtype='<U20')\n",
      "  array(['stringy'], dtype='<U7')\n",
      "  array(['arms/legs/skin-related'], dtype='<U22')\n",
      "  array(['shiny/transparent'], dtype='<U17')\n",
      "  array(['construction-related'], dtype='<U20')\n",
      "  array(['fire-related'], dtype='<U12')\n",
      "  array(['head-related'], dtype='<U12')\n",
      "  array(['has beams / support'], dtype='<U19')\n",
      "  array(['seating-related'], dtype='<U15')\n",
      "  array(['container-related / hollow'], dtype='<U26')\n",
      "  array(['child/toy-related'], dtype='<U17')\n",
      "  array(['medicine-related'], dtype='<U16')\n",
      "  array(['has grating'], dtype='<U11')\n",
      "  array(['handicraft-related'], dtype='<U18')\n",
      "  array(['cylindrical / conical'], dtype='<U21')]]\n"
     ]
    }
   ],
   "source": [
    "labels_short49_mat = scipy.io.loadmat('./multimodal/data/embedding49/labels_short49.mat')\n",
    "print(labels_short49_mat.keys())\n",
    "labels_short = labels_short49_mat['labels_short']\n",
    "print(labels_short.shape)\n",
    "print(labels_short)\n"
   ]
  },
  {
   "cell_type": "code",
   "execution_count": 24,
   "metadata": {},
   "outputs": [
    {
     "name": "stdout",
     "output_type": "stream",
     "text": [
      "dict_keys(['__header__', '__version__', '__globals__', 'spose_sim'])\n",
      "(1854, 1854)\n"
     ]
    }
   ],
   "source": [
    "spose_similarity49_mat = scipy.io.loadmat('./multimodal/data/embedding49/spose_similarity49.mat')\n",
    "print(spose_similarity49_mat.keys())\n",
    "spose_sim = spose_similarity49_mat['spose_sim']\n",
    "print(spose_sim.shape)\n"
   ]
  },
  {
   "attachments": {},
   "cell_type": "markdown",
   "metadata": {},
   "source": [
    "### data"
   ]
  },
  {
   "cell_type": "code",
   "execution_count": 27,
   "metadata": {},
   "outputs": [
    {
     "name": "stdout",
     "output_type": "stream",
     "text": [
      "dict_keys(['__header__', '__version__', '__globals__', 'category_mat_manual'])\n",
      "(1854, 27)\n"
     ]
    }
   ],
   "source": [
    "category_mat_manual_mat = scipy.io.loadmat('./multimodal/data/category_mat_manual.mat')\n",
    "print(category_mat_manual_mat.keys())\n",
    "category_mat_manual = category_mat_manual_mat['category_mat_manual']\n",
    "print(category_mat_manual.shape)"
   ]
  },
  {
   "cell_type": "code",
   "execution_count": 31,
   "metadata": {},
   "outputs": [
    {
     "name": "stdout",
     "output_type": "stream",
     "text": [
      "dict_keys(['__header__', '__version__', '__globals__', 'ratings_translated_all'])\n",
      "(20, 49, 20)\n"
     ]
    }
   ],
   "source": [
    "dimension_ratings_mat = scipy.io.loadmat('./multimodal/data/dimension_ratings.mat')\n",
    "print(dimension_ratings_mat.keys())\n",
    "ratings_translated_all = dimension_ratings_mat['ratings_translated_all']\n",
    "print(ratings_translated_all.shape)\n"
   ]
  },
  {
   "cell_type": "code",
   "execution_count": 33,
   "metadata": {},
   "outputs": [
    {
     "name": "stdout",
     "output_type": "stream",
     "text": [
      "dict_keys(['__header__', '__version__', '__globals__', 'RDM48_triplet_split1', 'RDM48_triplet_split2'])\n",
      "(48, 48)\n"
     ]
    }
   ],
   "source": [
    "RDM48_triplet_splithalf_mat = scipy.io.loadmat('./multimodal/data/RDM48_triplet_splithalf.mat')\n",
    "print(RDM48_triplet_splithalf_mat.keys())\n",
    "RDM48_triplet_split2 = RDM48_triplet_splithalf_mat['RDM48_triplet_split2']\n",
    "print(RDM48_triplet_split2.shape)\n"
   ]
  },
  {
   "cell_type": "code",
   "execution_count": 35,
   "metadata": {},
   "outputs": [
    {
     "name": "stdout",
     "output_type": "stream",
     "text": [
      "dict_keys(['__header__', '__version__', '__globals__', 'sensevec_augmented'])\n",
      "(1854, 300)\n"
     ]
    }
   ],
   "source": [
    "sensevec_augmented_with_wordvec_mat = scipy.io.loadmat('./multimodal/data/sensevec_augmented_with_wordvec.mat')\n",
    "print(sensevec_augmented_with_wordvec_mat.keys())\n",
    "sensevec_augmented = sensevec_augmented_with_wordvec_mat['sensevec_augmented']\n",
    "print(sensevec_augmented.shape)"
   ]
  },
  {
   "cell_type": "code",
   "execution_count": 37,
   "metadata": {},
   "outputs": [
    {
     "name": "stdout",
     "output_type": "stream",
     "text": [
      "dict_keys(['__header__', '__version__', '__globals__', 'spose_sim'])\n",
      "(1854, 1854)\n"
     ]
    }
   ],
   "source": [
    "spose_similarity_mat = scipy.io.loadmat('./multimodal/data/spose_similarity.mat')\n",
    "print(spose_similarity_mat.keys())\n",
    "spose_sim = spose_similarity_mat['spose_sim']\n",
    "print(spose_sim.shape)"
   ]
  },
  {
   "cell_type": "code",
   "execution_count": 39,
   "metadata": {},
   "outputs": [
    {
     "name": "stdout",
     "output_type": "stream",
     "text": [
      "dict_keys(['__header__', '__version__', '__globals__', 'best_match27', 'categories27', 'category27_ind', 'category27_subind', 'category27_typicality_rating_normed'])\n",
      "(1, 27)\n",
      "(1, 27)\n",
      "(1, 27)\n",
      "(1, 17)\n",
      "(27, 1)\n"
     ]
    }
   ],
   "source": [
    "typicality_data27_mat = scipy.io.loadmat('./multimodal/data/typicality_data27.mat')\n",
    "print(typicality_data27_mat.keys())\n",
    "# dict_keys(['__header__', '__version__', '__globals__', 'best_match27', 'categories27', 'category27_ind', 'category27_subind', 'category27_typicality_rating_normed'])\n",
    "print(typicality_data27_mat['best_match27'].shape)\n",
    "print(typicality_data27_mat['categories27'].shape)\n",
    "print(typicality_data27_mat['category27_ind'].shape)\n",
    "print(typicality_data27_mat['category27_subind'].shape)\n",
    "print(typicality_data27_mat['category27_typicality_rating_normed'].shape)"
   ]
  },
  {
   "cell_type": "code",
   "execution_count": null,
   "metadata": {},
   "outputs": [],
   "source": []
  }
 ],
 "metadata": {
  "kernelspec": {
   "display_name": "vision_env",
   "language": "python",
   "name": "python3"
  },
  "language_info": {
   "codemirror_mode": {
    "name": "ipython",
    "version": 3
   },
   "file_extension": ".py",
   "mimetype": "text/x-python",
   "name": "python",
   "nbconvert_exporter": "python",
   "pygments_lexer": "ipython3",
   "version": "3.11.3"
  },
  "orig_nbformat": 4
 },
 "nbformat": 4,
 "nbformat_minor": 2
}
