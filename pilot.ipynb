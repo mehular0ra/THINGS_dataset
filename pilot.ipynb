{
 "cells": [
  {
   "cell_type": "code",
   "execution_count": 12,
   "metadata": {},
   "outputs": [],
   "source": [
    "import numpy as np\n",
    "import pandas as pd\n",
    "import scipy.io\n",
    "\n",
    "import torch"
   ]
  },
  {
   "cell_type": "markdown",
   "metadata": {},
   "source": [
    "## Extract data"
   ]
  },
  {
   "cell_type": "code",
   "execution_count": 4,
   "metadata": {},
   "outputs": [],
   "source": [
    "import os \n",
    "import zipfile\n",
    "\n",
    "def extract_password_protected_zip(zip_file_path, extract_dir_path, password=None):\n",
    "    \"\"\"Extracts a password-protected zip file to a specified directory.\"\"\"\n",
    "    try:\n",
    "        if not os.path.exists(extract_dir_path):\n",
    "            with zipfile.ZipFile(zip_file_path, 'r') as zObject:\n",
    "                if password is not None:\n",
    "                    zObject.setpassword(password)\n",
    "                zObject.extractall(path=extract_dir_path)\n",
    "            print(\n",
    "                f'Successfully extracted {zip_file_path} to {extract_dir_path}.')\n",
    "        else:\n",
    "            print(f'{extract_dir_path} already exists, skipping extraction.')\n",
    "    except zipfile.BadZipFile:\n",
    "        print(f'{zip_file_path} is not a valid zip file.')\n",
    "    except RuntimeError as e:\n",
    "        print(\n",
    "            f'An error occurred while extracting {zip_file_path} to {extract_dir_path}: {e}.')\n",
    "        \n",
    "\n",
    "def extract_all_password_protected_zips(zip_file_paths, extract_dir_path, password=None):\n",
    "    \"\"\"Extracts all password-protected zip files in a list to a specified directory.\"\"\"\n",
    "    for zip_file_path in zip_file_paths:\n",
    "        extract_dir_name = os.path.splitext(os.path.basename(zip_file_path))[0]\n",
    "        extract_dir_path_zip = os.path.join(extract_dir_path, extract_dir_name)\n",
    "        if os.path.exists(extract_dir_path_zip):\n",
    "            print(f'{extract_dir_path_zip} already exists, skipping extraction.')\n",
    "        else:\n",
    "            extract_password_protected_zip(\n",
    "                zip_file_path, extract_dir_path_zip, password)\n"
   ]
  },
  {
   "cell_type": "code",
   "execution_count": 8,
   "metadata": {},
   "outputs": [
    {
     "name": "stdout",
     "output_type": "stream",
     "text": [
      "data1 already exists, skipping extraction.\n",
      "data2 already exists, skipping extraction.\n"
     ]
    }
   ],
   "source": [
    "# extract_password_protected_zip('data1.zip', 'data1')\n",
    "# extract_password_protected_zip('data2.zip', 'data2')\n"
   ]
  },
  {
   "attachments": {},
   "cell_type": "markdown",
   "metadata": {},
   "source": [
    "## Data1: "
   ]
  },
  {
   "attachments": {},
   "cell_type": "markdown",
   "metadata": {},
   "source": [
    "##### Mat files"
   ]
  },
  {
   "cell_type": "code",
   "execution_count": 10,
   "metadata": {},
   "outputs": [],
   "source": [
    "categories_mat = scipy.io.loadmat('data1/27 higher-level categories/categories.mat')\n",
    "category_mat_bottom_up = scipy.io.loadmat('data1/27 higher-level categories/category_mat_bottom_up.mat')\n",
    "category_mat_top_down = scipy.io.loadmat('data1/27 higher-level categories/category_mat_top_down.mat')\n",
    "category_mat_manual = scipy.io.loadmat('data1/27 higher-level categories/category_mat_manual.mat')"
   ]
  },
  {
   "cell_type": "code",
   "execution_count": 33,
   "metadata": {},
   "outputs": [
    {
     "name": "stdout",
     "output_type": "stream",
     "text": [
      "dict_keys(['__header__', '__version__', '__globals__', 'categories'])\n",
      "(1, 27)\n",
      "['animal', 'bird', 'body part', 'clothing', 'clothing accessory', 'container', 'dessert', 'drink', 'electronic device', 'food', 'fruit', 'furniture', 'home decor', 'insect', 'kitchen appliance', 'kitchen tool', 'medical equipment', 'musical instrument', 'office supply', 'part of car', 'plant', 'sports equipment', 'tool', 'toy', 'vegetable', 'vehicle', 'weapon']\n"
     ]
    }
   ],
   "source": [
    "print(categories_mat.keys())\n",
    "# explore the data categories_mat\n",
    "# print(categories_mat['categories'])\n",
    "print(categories_mat['categories'].shape)\n",
    "categories_list = [categories_mat['categories'][0][i][0] for i in range(27)]\n",
    "print(categories_list)\n"
   ]
  },
  {
   "cell_type": "code",
   "execution_count": 39,
   "metadata": {},
   "outputs": [
    {
     "name": "stdout",
     "output_type": "stream",
     "text": [
      "dict_keys(['__header__', '__version__', '__globals__', 'category_mat_bottom_up'])\n",
      "(1854, 27)\n",
      "(1854, 27)\n",
      "(1854, 27)\n"
     ]
    }
   ],
   "source": [
    "# explore the data category_mat_bottom_up\n",
    "print(category_mat_bottom_up.keys())\n",
    "print(category_mat_bottom_up['category_mat_bottom_up'].shape)\n",
    "print(category_mat_top_down['category_mat_top_down'].shape)\n",
    "print(category_mat_manual['category_mat_manual'].shape)\n",
    "\n",
    "# print(category_mat_bottom_up['category_mat_bottom_up'])"
   ]
  },
  {
   "cell_type": "code",
   "execution_count": 77,
   "metadata": {},
   "outputs": [
    {
     "name": "stdout",
     "output_type": "stream",
     "text": [
      "[1, 0, 0, 0, 0, 0, 0, 0, 0, 0, 0, 0, 1, 0, 0, 1, 0, 0, 0, 0, 0, 0, 0, 0, 0, 1, 1]\n",
      "[1 0 0 ... 1 0 0]\n",
      "\n",
      "Category mat bottom up: \n",
      "Animal: \n",
      "[   0   12   15   25   26   53   87  105  107  128  134  151  214  241\n",
      "  245  284  315  321  323  332  334  423  426  427  476  495  504  525\n",
      "  554  578  638  666  675  684  694  695  718  722  743  774  781  798\n",
      "  815  845  862  875  884  889  909  917  933  938  992 1014 1016 1017\n",
      " 1018 1026 1080 1084 1085 1105 1106 1145 1170 1173 1198 1211 1220 1226\n",
      " 1228 1258 1265 1266 1267 1282 1301 1306 1384 1397 1409 1414 1459 1471\n",
      " 1472 1476 1529 1659 1736 1779 1781 1797 1831 1845 1851]\n",
      "95\n",
      "\n",
      "Bird: \n",
      "[ 274  321  323  372  446  525  526  537  608  693  760  811 1084 1091\n",
      " 1121 1130 1140 1145 1160 1171 1248 1330 1395 1591 1690 1733 1768]\n",
      "27\n",
      "\n",
      "Body part: \n",
      "[  22   36  161  242  319  330  538  552  564  569  588  628  733  744\n",
      "  780  877  911 1031 1052 1053 1063 1431 1456 1458 1560 1653 1668 1675\n",
      " 1678 1685 1842]\n",
      "31\n",
      "\n"
     ]
    }
   ],
   "source": [
    "category_mat_bottom_up_list = [category_mat_bottom_up['category_mat_bottom_up'][i][0] for i in range(27)]\n",
    "print(category_mat_bottom_up_list)\n",
    "\n",
    "print(category_mat_bottom_up['category_mat_bottom_up'][:, 0])\n",
    "# index at which the category is present\n",
    "print()\n",
    "print(\"Category mat bottom up: \")\n",
    "print('Animal: ')\n",
    "print(np.where(category_mat_bottom_up['category_mat_bottom_up'][:, 0] == 1)[0])\n",
    "print(len(np.where(category_mat_bottom_up['category_mat_bottom_up'][:, 0] == 1)[0]))\n",
    "\n",
    "print()\n",
    "print('Bird: ')\n",
    "print(np.where(category_mat_bottom_up['category_mat_bottom_up'][:, 1] == 1)[0])\n",
    "print(len(np.where(category_mat_bottom_up['category_mat_bottom_up'][:, 1] == 1)[0]))\n",
    "print()\n",
    "print('Body part: ')\n",
    "print(np.where(category_mat_bottom_up['category_mat_bottom_up'][:, 2] == 1)[0])\n",
    "print(len(np.where(category_mat_bottom_up['category_mat_bottom_up'][:, 2] == 1)[0]))\n",
    "print()"
   ]
  },
  {
   "cell_type": "code",
   "execution_count": 76,
   "metadata": {},
   "outputs": [
    {
     "name": "stdout",
     "output_type": "stream",
     "text": [
      "Category mat top down: \n",
      "Animal: \n",
      "[   0   12   15   24   25   26   53   75   87  105  107  111  115  128\n",
      "  134  146  151  212  214  229  241  245  274  284  286  287  315  321\n",
      "  324  326  332  334  349  371  372  373  406  423  426  427  428  434\n",
      "  446  471  476  495  502  504  514  525  526  537  541  545  554  578\n",
      "  600  608  621  638  644  666  675  684  688  693  694  695  706  718\n",
      "  722  743  760  774  781  798  811  815  825  845  862  875  884  888\n",
      "  889  909  917  929  933  937  938  939  955  964  992 1014 1016 1017\n",
      " 1018 1020 1023 1026 1042 1070 1080 1084 1085 1091 1092 1105 1106 1121\n",
      " 1130 1140 1145 1160 1170 1171 1173 1198 1211 1220 1221 1226 1228 1238\n",
      " 1248 1249 1258 1265 1266 1267 1282 1285 1288 1301 1306 1330 1384 1393\n",
      " 1395 1396 1397 1409 1414 1459 1471 1472 1476 1477 1513 1528 1529 1541\n",
      " 1556 1591 1603 1614 1626 1656 1659 1690 1733 1736 1768 1779 1781 1785\n",
      " 1797 1804 1831 1836 1845 1851]\n",
      "174\n",
      "\n",
      "Bird: \n",
      "[ 274  321  324  372  446  525  526  537  608  693  760  811 1084 1091\n",
      " 1121 1130 1140 1145 1160 1171 1248 1330 1395 1591 1690 1733 1768]\n",
      "27\n",
      "\n",
      "Body part: \n",
      "[  22   36  161  242  319  330  538  552  564  569  588  628  744  780\n",
      "  877  911 1031 1053 1063 1431 1450 1456 1458 1560 1650 1653 1668 1675\n",
      " 1678 1685 1842]\n",
      "31\n",
      "\n"
     ]
    }
   ],
   "source": [
    "print(\"Category mat top down: \")\n",
    "print('Animal: ')\n",
    "print(np.where(category_mat_top_down['category_mat_top_down'][:, 0] == 1)[0])\n",
    "print(len(np.where(category_mat_top_down['category_mat_top_down'][:, 0] == 1)[0]))\n",
    "print()\n",
    "print('Bird: ')\n",
    "print(np.where(category_mat_top_down['category_mat_top_down'][:, 1] == 1)[0])\n",
    "print(len(np.where(category_mat_top_down['category_mat_top_down'][:, 1] == 1)[0]))\n",
    "print()\n",
    "print('Body part: ')\n",
    "print(np.where(category_mat_top_down['category_mat_top_down'][:, 2] == 1)[0])\n",
    "print(len(np.where(category_mat_top_down['category_mat_top_down'][:, 2] == 1)[0]))\n",
    "print()\n"
   ]
  },
  {
   "cell_type": "code",
   "execution_count": 78,
   "metadata": {},
   "outputs": [
    {
     "name": "stdout",
     "output_type": "stream",
     "text": [
      "Category mat manual: \n",
      "Animal: \n",
      "[   0   12   15   24   25   26   53   75   87  105  107  111  115  128\n",
      "  134  146  151  212  214  229  241  245  274  284  286  287  315  321\n",
      "  324  326  332  334  349  371  372  373  406  423  426  427  428  434\n",
      "  446  471  476  495  502  504  514  525  526  537  541  545  554  578\n",
      "  600  608  621  638  644  666  675  684  688  693  694  695  706  718\n",
      "  722  743  760  774  781  798  811  815  825  845  862  875  884  888\n",
      "  889  909  917  929  933  937  938  939  955  964  992 1014 1016 1017\n",
      " 1018 1020 1023 1026 1042 1070 1080 1084 1085 1091 1092 1105 1106 1121\n",
      " 1130 1140 1145 1160 1170 1171 1173 1198 1211 1220 1221 1226 1228 1238\n",
      " 1248 1249 1258 1265 1266 1282 1285 1288 1301 1306 1330 1359 1373 1384\n",
      " 1393 1395 1396 1397 1409 1414 1438 1459 1471 1472 1476 1477 1513 1528\n",
      " 1529 1541 1556 1591 1603 1614 1626 1656 1659 1664 1690 1733 1736 1768\n",
      " 1779 1781 1785 1797 1804 1831 1836 1845 1851]\n",
      "177\n",
      "\n",
      "Bird: \n",
      "[ 128  274  321  372  446  525  526  537  608  693  760  811 1084 1091\n",
      " 1121 1130 1140 1145 1160 1171 1248 1330 1395 1591 1690 1733 1768]\n",
      "27\n",
      "\n",
      "Body part: \n",
      "[  22   36  106  161  242  319  330  538  552  564  569  588  628  733\n",
      "  744  780  877  911 1031 1043 1052 1053 1063 1431 1450 1456 1458 1560\n",
      " 1653 1668 1675 1678 1685 1842]\n",
      "34\n"
     ]
    }
   ],
   "source": [
    "print(\"Category mat manual: \")\n",
    "print('Animal: ')\n",
    "print(np.where(category_mat_manual['category_mat_manual'][:, 0] == 1)[0])\n",
    "print(len(np.where(category_mat_manual['category_mat_manual'][:, 0] == 1)[0]))\n",
    "print()\n",
    "print('Bird: ')\n",
    "print(np.where(category_mat_manual['category_mat_manual'][:, 1] == 1)[0])\n",
    "print(len(np.where(category_mat_manual['category_mat_manual'][:, 1] == 1)[0]))\n",
    "print()\n",
    "print('Body part: ')\n",
    "print(np.where(category_mat_manual['category_mat_manual'][:, 2] == 1)[0])\n",
    "print(len(np.where(category_mat_manual['category_mat_manual'][:, 2] == 1)[0]))"
   ]
  },
  {
   "cell_type": "code",
   "execution_count": 79,
   "metadata": {},
   "outputs": [],
   "source": [
    "# category_mat_bottom_up, category_mat_top_down, category_mat_manual all provide information about the 1854 object concepts... \n",
    "# in terms of 27 categories\n",
    "# there are 27 categories for 1854 object concepts\n",
    "# 3 files provide different information about the categories\n"
   ]
  },
  {
   "attachments": {},
   "cell_type": "markdown",
   "metadata": {},
   "source": [
    "##### CSV Files:"
   ]
  },
  {
   "cell_type": "code",
   "execution_count": 59,
   "metadata": {},
   "outputs": [],
   "source": [
    "categorization_tsv = pd.read_csv(\"./data1/27 higher-level categories/categorization.tsv\", sep='\\t', header=None)\n",
    "category_mat_bottom_up_tsv = pd.read_csv(\"./data1/27 higher-level categories/category_mat_bottom_up.tsv\", sep='\\t')\n",
    "category_mat_top_down_tsv = pd.read_csv(\"./data1/27 higher-level categories/category_mat_top_down.tsv\", sep='\\t')\n",
    "category_mat_manual_tsv = pd.read_csv(\"./data1/27 higher-level categories/category_mat_manual.tsv\", sep='\\t')"
   ]
  },
  {
   "cell_type": "code",
   "execution_count": 60,
   "metadata": {},
   "outputs": [
    {
     "name": "stdout",
     "output_type": "stream",
     "text": [
      "(1854, 21)\n"
     ]
    },
    {
     "data": {
      "text/html": [
       "<div>\n",
       "<style scoped>\n",
       "    .dataframe tbody tr th:only-of-type {\n",
       "        vertical-align: middle;\n",
       "    }\n",
       "\n",
       "    .dataframe tbody tr th {\n",
       "        vertical-align: top;\n",
       "    }\n",
       "\n",
       "    .dataframe thead th {\n",
       "        text-align: right;\n",
       "    }\n",
       "</style>\n",
       "<table border=\"1\" class=\"dataframe\">\n",
       "  <thead>\n",
       "    <tr style=\"text-align: right;\">\n",
       "      <th></th>\n",
       "      <th>0</th>\n",
       "      <th>1</th>\n",
       "      <th>2</th>\n",
       "      <th>3</th>\n",
       "      <th>4</th>\n",
       "      <th>5</th>\n",
       "      <th>6</th>\n",
       "      <th>7</th>\n",
       "      <th>8</th>\n",
       "      <th>9</th>\n",
       "      <th>...</th>\n",
       "      <th>11</th>\n",
       "      <th>12</th>\n",
       "      <th>13</th>\n",
       "      <th>14</th>\n",
       "      <th>15</th>\n",
       "      <th>16</th>\n",
       "      <th>17</th>\n",
       "      <th>18</th>\n",
       "      <th>19</th>\n",
       "      <th>20</th>\n",
       "    </tr>\n",
       "  </thead>\n",
       "  <tbody>\n",
       "    <tr>\n",
       "      <th>0</th>\n",
       "      <td>aardvark</td>\n",
       "      <td>aardvark</td>\n",
       "      <td>animal</td>\n",
       "      <td>animal</td>\n",
       "      <td>animal</td>\n",
       "      <td>animal</td>\n",
       "      <td>animal</td>\n",
       "      <td>animal</td>\n",
       "      <td>animal</td>\n",
       "      <td>animal</td>\n",
       "      <td>...</td>\n",
       "      <td>animal</td>\n",
       "      <td>animal</td>\n",
       "      <td>animal</td>\n",
       "      <td>animal</td>\n",
       "      <td>animal</td>\n",
       "      <td>animal</td>\n",
       "      <td>animal</td>\n",
       "      <td>animal</td>\n",
       "      <td>anteater</td>\n",
       "      <td>mammal</td>\n",
       "    </tr>\n",
       "    <tr>\n",
       "      <th>1</th>\n",
       "      <td>abacus</td>\n",
       "      <td>academics</td>\n",
       "      <td>calculating tool</td>\n",
       "      <td>calculator</td>\n",
       "      <td>calculator</td>\n",
       "      <td>calculators</td>\n",
       "      <td>counting</td>\n",
       "      <td>counting device</td>\n",
       "      <td>game</td>\n",
       "      <td>instrument</td>\n",
       "      <td>...</td>\n",
       "      <td>math tool</td>\n",
       "      <td>math tool</td>\n",
       "      <td>math tool</td>\n",
       "      <td>mathematic</td>\n",
       "      <td>mathematic tool</td>\n",
       "      <td>mathematical device</td>\n",
       "      <td>mathematical device</td>\n",
       "      <td>mathematics</td>\n",
       "      <td>science instrument</td>\n",
       "      <td>tool</td>\n",
       "    </tr>\n",
       "    <tr>\n",
       "      <th>2</th>\n",
       "      <td>accordion</td>\n",
       "      <td>music</td>\n",
       "      <td>music</td>\n",
       "      <td>music equipment</td>\n",
       "      <td>musical instrument</td>\n",
       "      <td>musical instrument</td>\n",
       "      <td>musical instrument</td>\n",
       "      <td>musical instrument</td>\n",
       "      <td>musical instrument</td>\n",
       "      <td>musical instrument</td>\n",
       "      <td>...</td>\n",
       "      <td>musical instrument</td>\n",
       "      <td>musical instrument</td>\n",
       "      <td>musical instrument</td>\n",
       "      <td>musical instrument</td>\n",
       "      <td>musical instrument</td>\n",
       "      <td>musical instrument</td>\n",
       "      <td>musical instrument</td>\n",
       "      <td>musical instrument</td>\n",
       "      <td>musical instrument</td>\n",
       "      <td>musical instrument</td>\n",
       "    </tr>\n",
       "    <tr>\n",
       "      <th>3</th>\n",
       "      <td>acorn</td>\n",
       "      <td>acorn</td>\n",
       "      <td>fruit</td>\n",
       "      <td>fruit</td>\n",
       "      <td>nut</td>\n",
       "      <td>nut</td>\n",
       "      <td>nut</td>\n",
       "      <td>nut</td>\n",
       "      <td>nut</td>\n",
       "      <td>nut</td>\n",
       "      <td>...</td>\n",
       "      <td>nut</td>\n",
       "      <td>plant</td>\n",
       "      <td>seed</td>\n",
       "      <td>seed</td>\n",
       "      <td>seed</td>\n",
       "      <td>seed</td>\n",
       "      <td>squirrel meal</td>\n",
       "      <td>tree nut</td>\n",
       "      <td>tree seed</td>\n",
       "      <td>wooden</td>\n",
       "    </tr>\n",
       "    <tr>\n",
       "      <th>4</th>\n",
       "      <td>air conditioner</td>\n",
       "      <td>air</td>\n",
       "      <td>appliance</td>\n",
       "      <td>appliance</td>\n",
       "      <td>appliance</td>\n",
       "      <td>appliance</td>\n",
       "      <td>appliance</td>\n",
       "      <td>appliance</td>\n",
       "      <td>cooling</td>\n",
       "      <td>cooling system</td>\n",
       "      <td>...</td>\n",
       "      <td>home</td>\n",
       "      <td>home appliance</td>\n",
       "      <td>home appliance</td>\n",
       "      <td>home appliance</td>\n",
       "      <td>home furnishing</td>\n",
       "      <td>household appliance</td>\n",
       "      <td>household climate control</td>\n",
       "      <td>hvac</td>\n",
       "      <td>portable cooling units</td>\n",
       "      <td>temperature controller</td>\n",
       "    </tr>\n",
       "  </tbody>\n",
       "</table>\n",
       "<p>5 rows × 21 columns</p>\n",
       "</div>"
      ],
      "text/plain": [
       "                0          1                 2                3    \n",
       "0         aardvark   aardvark            animal           animal  \\\n",
       "1           abacus  academics  calculating tool       calculator   \n",
       "2        accordion      music             music  music equipment   \n",
       "3            acorn      acorn             fruit            fruit   \n",
       "4  air conditioner        air         appliance        appliance   \n",
       "\n",
       "                   4                   5                   6    \n",
       "0              animal              animal              animal  \\\n",
       "1          calculator         calculators            counting   \n",
       "2  musical instrument  musical instrument  musical instrument   \n",
       "3                 nut                 nut                 nut   \n",
       "4           appliance           appliance           appliance   \n",
       "\n",
       "                   7                   8                   9   ...   \n",
       "0              animal              animal              animal  ...  \\\n",
       "1     counting device                game          instrument  ...   \n",
       "2  musical instrument  musical instrument  musical instrument  ...   \n",
       "3                 nut                 nut                 nut  ...   \n",
       "4           appliance             cooling      cooling system  ...   \n",
       "\n",
       "                   11                  12                  13   \n",
       "0              animal              animal              animal  \\\n",
       "1           math tool           math tool           math tool   \n",
       "2  musical instrument  musical instrument  musical instrument   \n",
       "3                 nut               plant                seed   \n",
       "4                home      home appliance      home appliance   \n",
       "\n",
       "                   14                  15                   16   \n",
       "0              animal              animal               animal  \\\n",
       "1          mathematic     mathematic tool  mathematical device   \n",
       "2  musical instrument  musical instrument   musical instrument   \n",
       "3                seed                seed                 seed   \n",
       "4      home appliance     home furnishing  household appliance   \n",
       "\n",
       "                          17                  18                      19   \n",
       "0                     animal              animal                anteater  \\\n",
       "1        mathematical device         mathematics      science instrument   \n",
       "2         musical instrument  musical instrument      musical instrument   \n",
       "3              squirrel meal            tree nut               tree seed   \n",
       "4  household climate control                hvac  portable cooling units   \n",
       "\n",
       "                       20  \n",
       "0                  mammal  \n",
       "1                    tool  \n",
       "2      musical instrument  \n",
       "3                  wooden  \n",
       "4  temperature controller  \n",
       "\n",
       "[5 rows x 21 columns]"
      ]
     },
     "execution_count": 60,
     "metadata": {},
     "output_type": "execute_result"
    }
   ],
   "source": [
    "print(categorization_tsv.shape)\n",
    "categorization_tsv.head()\n",
    "\n",
    "# categorization_tsv provides the 20 labels for all the  images"
   ]
  },
  {
   "cell_type": "code",
   "execution_count": 89,
   "metadata": {},
   "outputs": [
    {
     "name": "stdout",
     "output_type": "stream",
     "text": [
      "Index([   0,   12,   15,   25,   26,   53,   87,  105,  107,  128,  134,  151,\n",
      "        214,  241,  245,  284,  315,  321,  323,  332,  334,  423,  426,  427,\n",
      "        476,  495,  504,  525,  554,  578,  638,  666,  675,  684,  694,  695,\n",
      "        718,  722,  743,  774,  781,  798,  815,  845,  862,  875,  884,  889,\n",
      "        909,  917,  933,  938,  992, 1014, 1016, 1017, 1018, 1026, 1080, 1084,\n",
      "       1085, 1105, 1106, 1145, 1170, 1173, 1198, 1211, 1220, 1226, 1228, 1258,\n",
      "       1265, 1266, 1267, 1282, 1301, 1306, 1384, 1397, 1409, 1414, 1459, 1471,\n",
      "       1472, 1476, 1529, 1659, 1736, 1779, 1781, 1797, 1831, 1845, 1851],\n",
      "      dtype='int64')\n",
      "95\n"
     ]
    }
   ],
   "source": []
  },
  {
   "cell_type": "code",
   "execution_count": 91,
   "metadata": {},
   "outputs": [
    {
     "data": {
      "text/html": [
       "<div>\n",
       "<style scoped>\n",
       "    .dataframe tbody tr th:only-of-type {\n",
       "        vertical-align: middle;\n",
       "    }\n",
       "\n",
       "    .dataframe tbody tr th {\n",
       "        vertical-align: top;\n",
       "    }\n",
       "\n",
       "    .dataframe thead th {\n",
       "        text-align: right;\n",
       "    }\n",
       "</style>\n",
       "<table border=\"1\" class=\"dataframe\">\n",
       "  <thead>\n",
       "    <tr style=\"text-align: right;\">\n",
       "      <th></th>\n",
       "      <th>animal</th>\n",
       "      <th>bird</th>\n",
       "      <th>body part</th>\n",
       "      <th>clothing</th>\n",
       "      <th>clothing accessory</th>\n",
       "      <th>container</th>\n",
       "      <th>dessert</th>\n",
       "      <th>drink</th>\n",
       "      <th>electronic device</th>\n",
       "      <th>food</th>\n",
       "      <th>...</th>\n",
       "      <th>musical instrument</th>\n",
       "      <th>office supply</th>\n",
       "      <th>part of car</th>\n",
       "      <th>plant</th>\n",
       "      <th>sports equipment</th>\n",
       "      <th>tool</th>\n",
       "      <th>toy</th>\n",
       "      <th>vegetable</th>\n",
       "      <th>vehicle</th>\n",
       "      <th>weapon</th>\n",
       "    </tr>\n",
       "  </thead>\n",
       "  <tbody>\n",
       "    <tr>\n",
       "      <th>0</th>\n",
       "      <td>1</td>\n",
       "      <td>0</td>\n",
       "      <td>0</td>\n",
       "      <td>0</td>\n",
       "      <td>0</td>\n",
       "      <td>0</td>\n",
       "      <td>0</td>\n",
       "      <td>0</td>\n",
       "      <td>0</td>\n",
       "      <td>0</td>\n",
       "      <td>...</td>\n",
       "      <td>0</td>\n",
       "      <td>0</td>\n",
       "      <td>0</td>\n",
       "      <td>0</td>\n",
       "      <td>0</td>\n",
       "      <td>0</td>\n",
       "      <td>0</td>\n",
       "      <td>0</td>\n",
       "      <td>0</td>\n",
       "      <td>0</td>\n",
       "    </tr>\n",
       "    <tr>\n",
       "      <th>1</th>\n",
       "      <td>0</td>\n",
       "      <td>0</td>\n",
       "      <td>0</td>\n",
       "      <td>0</td>\n",
       "      <td>0</td>\n",
       "      <td>0</td>\n",
       "      <td>0</td>\n",
       "      <td>0</td>\n",
       "      <td>0</td>\n",
       "      <td>0</td>\n",
       "      <td>...</td>\n",
       "      <td>0</td>\n",
       "      <td>0</td>\n",
       "      <td>0</td>\n",
       "      <td>0</td>\n",
       "      <td>0</td>\n",
       "      <td>0</td>\n",
       "      <td>0</td>\n",
       "      <td>0</td>\n",
       "      <td>0</td>\n",
       "      <td>0</td>\n",
       "    </tr>\n",
       "    <tr>\n",
       "      <th>2</th>\n",
       "      <td>0</td>\n",
       "      <td>0</td>\n",
       "      <td>0</td>\n",
       "      <td>0</td>\n",
       "      <td>0</td>\n",
       "      <td>0</td>\n",
       "      <td>0</td>\n",
       "      <td>0</td>\n",
       "      <td>0</td>\n",
       "      <td>0</td>\n",
       "      <td>...</td>\n",
       "      <td>1</td>\n",
       "      <td>0</td>\n",
       "      <td>0</td>\n",
       "      <td>0</td>\n",
       "      <td>0</td>\n",
       "      <td>0</td>\n",
       "      <td>0</td>\n",
       "      <td>0</td>\n",
       "      <td>0</td>\n",
       "      <td>0</td>\n",
       "    </tr>\n",
       "    <tr>\n",
       "      <th>3</th>\n",
       "      <td>0</td>\n",
       "      <td>0</td>\n",
       "      <td>0</td>\n",
       "      <td>0</td>\n",
       "      <td>0</td>\n",
       "      <td>0</td>\n",
       "      <td>0</td>\n",
       "      <td>0</td>\n",
       "      <td>0</td>\n",
       "      <td>0</td>\n",
       "      <td>...</td>\n",
       "      <td>0</td>\n",
       "      <td>0</td>\n",
       "      <td>0</td>\n",
       "      <td>0</td>\n",
       "      <td>0</td>\n",
       "      <td>0</td>\n",
       "      <td>0</td>\n",
       "      <td>0</td>\n",
       "      <td>0</td>\n",
       "      <td>0</td>\n",
       "    </tr>\n",
       "    <tr>\n",
       "      <th>4</th>\n",
       "      <td>0</td>\n",
       "      <td>0</td>\n",
       "      <td>0</td>\n",
       "      <td>0</td>\n",
       "      <td>0</td>\n",
       "      <td>0</td>\n",
       "      <td>0</td>\n",
       "      <td>0</td>\n",
       "      <td>0</td>\n",
       "      <td>0</td>\n",
       "      <td>...</td>\n",
       "      <td>0</td>\n",
       "      <td>0</td>\n",
       "      <td>0</td>\n",
       "      <td>0</td>\n",
       "      <td>0</td>\n",
       "      <td>0</td>\n",
       "      <td>0</td>\n",
       "      <td>0</td>\n",
       "      <td>0</td>\n",
       "      <td>0</td>\n",
       "    </tr>\n",
       "  </tbody>\n",
       "</table>\n",
       "<p>5 rows × 27 columns</p>\n",
       "</div>"
      ],
      "text/plain": [
       "   animal  bird  body part  clothing  clothing accessory  container  dessert   \n",
       "0       1     0          0         0                   0          0        0  \\\n",
       "1       0     0          0         0                   0          0        0   \n",
       "2       0     0          0         0                   0          0        0   \n",
       "3       0     0          0         0                   0          0        0   \n",
       "4       0     0          0         0                   0          0        0   \n",
       "\n",
       "   drink  electronic device  food  ...  musical instrument  office supply   \n",
       "0      0                  0     0  ...                   0              0  \\\n",
       "1      0                  0     0  ...                   0              0   \n",
       "2      0                  0     0  ...                   1              0   \n",
       "3      0                  0     0  ...                   0              0   \n",
       "4      0                  0     0  ...                   0              0   \n",
       "\n",
       "   part of car  plant  sports equipment  tool  toy  vegetable  vehicle  weapon  \n",
       "0            0      0                 0     0    0          0        0       0  \n",
       "1            0      0                 0     0    0          0        0       0  \n",
       "2            0      0                 0     0    0          0        0       0  \n",
       "3            0      0                 0     0    0          0        0       0  \n",
       "4            0      0                 0     0    0          0        0       0  \n",
       "\n",
       "[5 rows x 27 columns]"
      ]
     },
     "execution_count": 91,
     "metadata": {},
     "output_type": "execute_result"
    }
   ],
   "source": [
    "category_mat_bottom_up_tsv.head()"
   ]
  },
  {
   "cell_type": "code",
   "execution_count": 93,
   "metadata": {},
   "outputs": [
    {
     "name": "stdout",
     "output_type": "stream",
     "text": [
      "(1854, 27)\n",
      "category_mat_bottom_up_tsv:\n",
      "Animal column numbers length: 95\n",
      "Bird column numbers length: 27\n",
      "Body part column numbers length: 31\n"
     ]
    }
   ],
   "source": [
    "print(category_mat_bottom_up_tsv.shape)\n",
    "\n",
    "# find the column numbers which are labelled 1 for animal, bird, body part\n",
    "animal_col = category_mat_bottom_up_tsv[category_mat_bottom_up_tsv['animal'] == 1].index\n",
    "bird_col = category_mat_bottom_up_tsv[category_mat_bottom_up_tsv['bird'] == 1].index\n",
    "body_part_col = category_mat_bottom_up_tsv[category_mat_bottom_up_tsv['body part'] == 1].index\n",
    "\n",
    "print(\"category_mat_bottom_up_tsv:\")\n",
    "print(\"Animal column numbers length:\", len(animal_col))\n",
    "print(\"Bird column numbers length:\", len(bird_col))\n",
    "print(\"Body part column numbers length:\", len(body_part_col))"
   ]
  },
  {
   "cell_type": "code",
   "execution_count": 94,
   "metadata": {},
   "outputs": [
    {
     "name": "stdout",
     "output_type": "stream",
     "text": [
      "category_mat_top_down_tsv:\n",
      "Animal column numbers length: 174\n",
      "Bird column numbers length: 27\n",
      "Body part column numbers length: 31\n"
     ]
    }
   ],
   "source": [
    "# find the column numbers which are labelled 1 for animal, bird, body part\n",
    "animal_col = category_mat_top_down_tsv[category_mat_top_down_tsv['animal'] == 1].index\n",
    "bird_col = category_mat_top_down_tsv[category_mat_top_down_tsv['bird'] == 1].index\n",
    "body_part_col = category_mat_top_down_tsv[category_mat_top_down_tsv['body part'] == 1].index\n",
    "\n",
    "print(\"category_mat_top_down_tsv:\")\n",
    "print(\"Animal column numbers length:\", len(animal_col))\n",
    "print(\"Bird column numbers length:\", len(bird_col))\n",
    "print(\"Body part column numbers length:\", len(body_part_col))"
   ]
  },
  {
   "cell_type": "code",
   "execution_count": 95,
   "metadata": {},
   "outputs": [
    {
     "name": "stdout",
     "output_type": "stream",
     "text": [
      "category_mat_manual_tsv:\n",
      "Animal column numbers length: 177\n",
      "Bird column numbers length: 27\n",
      "Body part column numbers length: 34\n"
     ]
    }
   ],
   "source": [
    "# find the column numbers which are labelled 1 for animal, bird, body part\n",
    "animal_col = category_mat_manual_tsv[category_mat_manual_tsv['animal'] == 1].index\n",
    "bird_col = category_mat_manual_tsv[category_mat_manual_tsv['bird'] == 1].index\n",
    "body_part_col = category_mat_manual_tsv[category_mat_manual_tsv['body part'] == 1].index\n",
    "\n",
    "print(\"category_mat_manual_tsv:\")\n",
    "print(\"Animal column numbers length:\", len(animal_col))\n",
    "print(\"Bird column numbers length:\", len(bird_col))\n",
    "print(\"Body part column numbers length:\", len(body_part_col))"
   ]
  },
  {
   "cell_type": "code",
   "execution_count": null,
   "metadata": {},
   "outputs": [],
   "source": []
  },
  {
   "cell_type": "code",
   "execution_count": null,
   "metadata": {},
   "outputs": [],
   "source": []
  },
  {
   "cell_type": "code",
   "execution_count": 15,
   "metadata": {},
   "outputs": [
    {
     "name": "stdout",
     "output_type": "stream",
     "text": [
      "1853\n"
     ]
    },
    {
     "data": {
      "text/html": [
       "<div>\n",
       "<style scoped>\n",
       "    .dataframe tbody tr th:only-of-type {\n",
       "        vertical-align: middle;\n",
       "    }\n",
       "\n",
       "    .dataframe tbody tr th {\n",
       "        vertical-align: top;\n",
       "    }\n",
       "\n",
       "    .dataframe thead th {\n",
       "        text-align: right;\n",
       "    }\n",
       "</style>\n",
       "<table border=\"1\" class=\"dataframe\">\n",
       "  <thead>\n",
       "    <tr style=\"text-align: right;\">\n",
       "      <th></th>\n",
       "      <th>aardvark</th>\n",
       "      <th>aardvark.1</th>\n",
       "      <th>animal</th>\n",
       "      <th>animal.1</th>\n",
       "      <th>animal.2</th>\n",
       "      <th>animal.3</th>\n",
       "      <th>animal.4</th>\n",
       "      <th>animal.5</th>\n",
       "      <th>animal.6</th>\n",
       "      <th>animal.7</th>\n",
       "      <th>...</th>\n",
       "      <th>animal.9</th>\n",
       "      <th>animal.10</th>\n",
       "      <th>animal.11</th>\n",
       "      <th>animal.12</th>\n",
       "      <th>animal.13</th>\n",
       "      <th>animal.14</th>\n",
       "      <th>animal.15</th>\n",
       "      <th>animal.16</th>\n",
       "      <th>anteater</th>\n",
       "      <th>mammal</th>\n",
       "    </tr>\n",
       "  </thead>\n",
       "  <tbody>\n",
       "    <tr>\n",
       "      <th>0</th>\n",
       "      <td>abacus</td>\n",
       "      <td>academics</td>\n",
       "      <td>calculating tool</td>\n",
       "      <td>calculator</td>\n",
       "      <td>calculator</td>\n",
       "      <td>calculators</td>\n",
       "      <td>counting</td>\n",
       "      <td>counting device</td>\n",
       "      <td>game</td>\n",
       "      <td>instrument</td>\n",
       "      <td>...</td>\n",
       "      <td>math tool</td>\n",
       "      <td>math tool</td>\n",
       "      <td>math tool</td>\n",
       "      <td>mathematic</td>\n",
       "      <td>mathematic tool</td>\n",
       "      <td>mathematical device</td>\n",
       "      <td>mathematical device</td>\n",
       "      <td>mathematics</td>\n",
       "      <td>science instrument</td>\n",
       "      <td>tool</td>\n",
       "    </tr>\n",
       "    <tr>\n",
       "      <th>1</th>\n",
       "      <td>accordion</td>\n",
       "      <td>music</td>\n",
       "      <td>music</td>\n",
       "      <td>music equipment</td>\n",
       "      <td>musical instrument</td>\n",
       "      <td>musical instrument</td>\n",
       "      <td>musical instrument</td>\n",
       "      <td>musical instrument</td>\n",
       "      <td>musical instrument</td>\n",
       "      <td>musical instrument</td>\n",
       "      <td>...</td>\n",
       "      <td>musical instrument</td>\n",
       "      <td>musical instrument</td>\n",
       "      <td>musical instrument</td>\n",
       "      <td>musical instrument</td>\n",
       "      <td>musical instrument</td>\n",
       "      <td>musical instrument</td>\n",
       "      <td>musical instrument</td>\n",
       "      <td>musical instrument</td>\n",
       "      <td>musical instrument</td>\n",
       "      <td>musical instrument</td>\n",
       "    </tr>\n",
       "  </tbody>\n",
       "</table>\n",
       "<p>2 rows × 21 columns</p>\n",
       "</div>"
      ],
      "text/plain": [
       "    aardvark aardvark.1            animal         animal.1   \n",
       "0     abacus  academics  calculating tool       calculator  \\\n",
       "1  accordion      music             music  music equipment   \n",
       "\n",
       "             animal.2            animal.3            animal.4   \n",
       "0          calculator         calculators            counting  \\\n",
       "1  musical instrument  musical instrument  musical instrument   \n",
       "\n",
       "             animal.5            animal.6            animal.7  ...   \n",
       "0     counting device                game          instrument  ...  \\\n",
       "1  musical instrument  musical instrument  musical instrument  ...   \n",
       "\n",
       "             animal.9           animal.10           animal.11   \n",
       "0           math tool           math tool           math tool  \\\n",
       "1  musical instrument  musical instrument  musical instrument   \n",
       "\n",
       "            animal.12           animal.13            animal.14   \n",
       "0          mathematic     mathematic tool  mathematical device  \\\n",
       "1  musical instrument  musical instrument   musical instrument   \n",
       "\n",
       "             animal.15           animal.16            anteater   \n",
       "0  mathematical device         mathematics  science instrument  \\\n",
       "1   musical instrument  musical instrument  musical instrument   \n",
       "\n",
       "               mammal  \n",
       "0                tool  \n",
       "1  musical instrument  \n",
       "\n",
       "[2 rows x 21 columns]"
      ]
     },
     "execution_count": 15,
     "metadata": {},
     "output_type": "execute_result"
    }
   ],
   "source": [
    "print(len(categories_tsv))\n",
    "categories_tsv[0:2]\n"
   ]
  },
  {
   "cell_type": "code",
   "execution_count": 16,
   "metadata": {},
   "outputs": [
    {
     "data": {
      "text/plain": [
       "1013"
      ]
     },
     "execution_count": 16,
     "metadata": {},
     "output_type": "execute_result"
    }
   ],
   "source": [
    "# find unique elements in a dataframe column\n",
    "len(categories_tsv['mammal'].unique())\n"
   ]
  },
  {
   "cell_type": "code",
   "execution_count": 17,
   "metadata": {},
   "outputs": [
    {
     "name": "stdout",
     "output_type": "stream",
     "text": [
      "./data1/Images/object_images_A-C already exists, skipping extraction.\n",
      "./data1/Images/object_images_D-K already exists, skipping extraction.\n",
      "./data1/Images/object_images_L-Q already exists, skipping extraction.\n",
      "./data1/Images/object_images_R-S already exists, skipping extraction.\n",
      "./data1/Images/object_images_T-Z already exists, skipping extraction.\n"
     ]
    }
   ],
   "source": [
    "\n",
    "# Replace these with the actual values\n",
    "zip_file_paths = [\"./data1/Images_zip/object_images_A-C.zip\",\n",
    "                  \"./data1/Images_zip/object_images_D-K.zip\",\n",
    "                  \"./data1/Images_zip/object_images_L-Q.zip\",\n",
    "                  \"./data1/Images_zip/object_images_R-S.zip\",\n",
    "                  \"./data1/Images_zip/object_images_T-Z.zip\"]\n",
    "extract_dir_path = \"./data1/Images\"\n",
    "password = 'things4all'.encode('utf-8')\n",
    "\n",
    "extract_all_password_protected_zips(zip_file_paths, extract_dir_path, password)\n"
   ]
  },
  {
   "cell_type": "code",
   "execution_count": null,
   "metadata": {},
   "outputs": [],
   "source": []
  },
  {
   "cell_type": "markdown",
   "metadata": {},
   "source": []
  },
  {
   "attachments": {},
   "cell_type": "markdown",
   "metadata": {},
   "source": [
    "## Data 2: "
   ]
  },
  {
   "cell_type": "code",
   "execution_count": 11,
   "metadata": {},
   "outputs": [
    {
     "name": "stdout",
     "output_type": "stream",
     "text": [
      "total 1150788\n",
      "-rw-rw-r-- 1 mehul mehul       6138 Apr 16 11:16 description.txt\n",
      "-rw-rw-r-- 1 mehul mehul       1817 Mar 22 05:56 LICENSE_THINGSplus.txt\n",
      "drwxrwxr-x 4 mehul mehul       4096 Mar 22 05:56 Metadata\n",
      "-rw-rw-r-- 1 mehul mehul 1178383468 Mar 22 05:56 object_images_CC0.zip\n"
     ]
    }
   ],
   "source": [
    "! ls -l ./data2/"
   ]
  },
  {
   "cell_type": "code",
   "execution_count": 12,
   "metadata": {},
   "outputs": [],
   "source": [
    "# unzip object_images_CCO.zip\n",
    "from zipfile import ZipFile\n",
    "zip_file_path = \"data2/object_images_CC0.zip\"\n",
    "extract_dir_path = \"./data2/Images\"\n",
    "# unzip(zip_file_path, extract_dir_path)\n",
    "# unzpip(zip_file_path, extract_dir_path)\n",
    "\n",
    "# loading the temp.zip and creating a zip object\n",
    "with ZipFile(zip_file_path, 'r') as zObject:\n",
    "\n",
    "\t# Extracting all the members of the zip\n",
    "\t# into a specific location.\n",
    "\tzObject.extractall(\n",
    "\t\tpath=extract_dir_path)\n"
   ]
  },
  {
   "cell_type": "code",
   "execution_count": 13,
   "metadata": {},
   "outputs": [
    {
     "name": "stdout",
     "output_type": "stream",
     "text": [
      "1855\n"
     ]
    }
   ],
   "source": [
    "# count images inside ./data2/Images/images_resized using terminal\n",
    "! ls -l ./data2/Images/images_resized | wc -l\n"
   ]
  },
  {
   "cell_type": "code",
   "execution_count": null,
   "metadata": {},
   "outputs": [],
   "source": []
  }
 ],
 "metadata": {
  "kernelspec": {
   "display_name": "base",
   "language": "python",
   "name": "python3"
  },
  "language_info": {
   "codemirror_mode": {
    "name": "ipython",
    "version": 3
   },
   "file_extension": ".py",
   "mimetype": "text/x-python",
   "name": "python",
   "nbconvert_exporter": "python",
   "pygments_lexer": "ipython3",
   "version": "3.11.3"
  },
  "orig_nbformat": 4
 },
 "nbformat": 4,
 "nbformat_minor": 2
}
